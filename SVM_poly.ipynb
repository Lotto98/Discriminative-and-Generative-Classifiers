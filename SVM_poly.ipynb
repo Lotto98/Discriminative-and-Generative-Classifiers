{
 "cells": [
  {
   "cell_type": "code",
   "execution_count": 1,
   "metadata": {},
   "outputs": [],
   "source": [
    "from sklearn.model_selection import GridSearchCV\n",
    "from thundersvm import SVC\n",
    "import pandas as pd\n",
    "from IPython.display import clear_output\n",
    "from sklearn.metrics import accuracy_score,confusion_matrix,ConfusionMatrixDisplay,recall_score\n",
    "import pickle"
   ]
  },
  {
   "cell_type": "code",
   "execution_count": 2,
   "metadata": {},
   "outputs": [],
   "source": [
    "train_X=pd.read_csv('dataset/train_X.csv')\n",
    "test_X=pd.read_csv('dataset/test_X.csv')\n",
    "\n",
    "train_y=pd.read_csv('dataset/train_y.csv')\n",
    "test_y=pd.read_csv('dataset/test_y.csv')"
   ]
  },
  {
   "attachments": {},
   "cell_type": "markdown",
   "metadata": {},
   "source": [
    "SVM with Poly Kernel"
   ]
  },
  {
   "cell_type": "code",
   "execution_count": 3,
   "metadata": {},
   "outputs": [],
   "source": [
    "def SVM_selector_poly(X,Y):\n",
    "           \n",
    "    model=SVC(n_jobs=-1)\n",
    "    properties={'C':[0.1,0.5,1,10],'kernel':['polynomial'],'degree':[2],'gamma':['scale','auto']}\n",
    "    \n",
    "    grid=GridSearchCV(model,properties,scoring=\"accuracy\",cv=10,return_train_score=True,verbose=5)\n",
    "    grid.fit(X,Y.values.ravel())\n",
    "    \n",
    "    clear_output(wait=True)\n",
    "    \n",
    "    result=pd.DataFrame(grid.cv_results_)\n",
    "    \n",
    "    print (\"Best Score: \", grid.best_score_)\n",
    "    print (\"Best Params: \", grid.best_params_)\n",
    "    \n",
    "    return grid.best_estimator_,result\n"
   ]
  },
  {
   "cell_type": "code",
   "execution_count": 4,
   "metadata": {},
   "outputs": [
    {
     "name": "stdout",
     "output_type": "stream",
     "text": [
      "Best Score:  0.9562666666666667\n",
      "Best Params:  {'C': 10, 'degree': 2, 'gamma': 'auto', 'kernel': 'polynomial'}\n"
     ]
    }
   ],
   "source": [
    "best_model,result=SVM_selector_poly(train_X,train_y)"
   ]
  },
  {
   "cell_type": "code",
   "execution_count": 5,
   "metadata": {},
   "outputs": [],
   "source": [
    "if 'best_model' in globals():\n",
    "    \n",
    "    model_filename = 'models/best_model_poly.sav'\n",
    "    pickle.dump(best_model, open(model_filename, 'wb'))\n",
    "\n",
    "    result_filename = 'models/result_poly.sav'\n",
    "    pickle.dump(result, open(result_filename, 'wb'))\n",
    "\n",
    "else:\n",
    "    import pickle\n",
    "    \n",
    "    from thundersvm import SVC\n",
    "    import pandas as pd\n",
    "    \n",
    "    from sklearn.metrics import accuracy_score,confusion_matrix,ConfusionMatrixDisplay,recall_score\n",
    "    \n",
    "    \n",
    "    train_X=pd.read_csv('dataset/train_X.csv')\n",
    "    test_X=pd.read_csv('dataset/test_X.csv')\n",
    "\n",
    "    train_y=pd.read_csv('dataset/train_y.csv')\n",
    "    test_y=pd.read_csv('dataset/test_y.csv')\n",
    "\n",
    "\n",
    "    with open( \"models/best_model_poly.sav\", \"rb\" ) as f:\n",
    "        best_model = pickle.load(f)\n",
    "    \n",
    "    with open( \"models/result_poly.sav\", \"rb\" ) as f:\n",
    "        result = pickle.load(f)"
   ]
  },
  {
   "cell_type": "code",
   "execution_count": 10,
   "metadata": {},
   "outputs": [
    {
     "data": {
      "text/html": [
       "<div>\n",
       "<style scoped>\n",
       "    .dataframe tbody tr th:only-of-type {\n",
       "        vertical-align: middle;\n",
       "    }\n",
       "\n",
       "    .dataframe tbody tr th {\n",
       "        vertical-align: top;\n",
       "    }\n",
       "\n",
       "    .dataframe thead th {\n",
       "        text-align: right;\n",
       "    }\n",
       "</style>\n",
       "<table border=\"1\" class=\"dataframe\">\n",
       "  <thead>\n",
       "    <tr style=\"text-align: right;\">\n",
       "      <th></th>\n",
       "      <th>param_C</th>\n",
       "      <th>param_gamma</th>\n",
       "      <th>mean_test_score</th>\n",
       "      <th>mean_train_score</th>\n",
       "    </tr>\n",
       "  </thead>\n",
       "  <tbody>\n",
       "    <tr>\n",
       "      <th>0</th>\n",
       "      <td>0.1</td>\n",
       "      <td>scale</td>\n",
       "      <td>NaN</td>\n",
       "      <td>NaN</td>\n",
       "    </tr>\n",
       "    <tr>\n",
       "      <th>1</th>\n",
       "      <td>0.1</td>\n",
       "      <td>auto</td>\n",
       "      <td>0.696133</td>\n",
       "      <td>0.697624</td>\n",
       "    </tr>\n",
       "    <tr>\n",
       "      <th>2</th>\n",
       "      <td>0.5</td>\n",
       "      <td>scale</td>\n",
       "      <td>NaN</td>\n",
       "      <td>NaN</td>\n",
       "    </tr>\n",
       "    <tr>\n",
       "      <th>3</th>\n",
       "      <td>0.5</td>\n",
       "      <td>auto</td>\n",
       "      <td>0.884567</td>\n",
       "      <td>0.885854</td>\n",
       "    </tr>\n",
       "    <tr>\n",
       "      <th>4</th>\n",
       "      <td>1</td>\n",
       "      <td>scale</td>\n",
       "      <td>NaN</td>\n",
       "      <td>NaN</td>\n",
       "    </tr>\n",
       "    <tr>\n",
       "      <th>5</th>\n",
       "      <td>1</td>\n",
       "      <td>auto</td>\n",
       "      <td>0.911600</td>\n",
       "      <td>0.913089</td>\n",
       "    </tr>\n",
       "    <tr>\n",
       "      <th>6</th>\n",
       "      <td>10</td>\n",
       "      <td>scale</td>\n",
       "      <td>NaN</td>\n",
       "      <td>NaN</td>\n",
       "    </tr>\n",
       "    <tr>\n",
       "      <th>7</th>\n",
       "      <td>10</td>\n",
       "      <td>auto</td>\n",
       "      <td>0.956267</td>\n",
       "      <td>0.960922</td>\n",
       "    </tr>\n",
       "  </tbody>\n",
       "</table>\n",
       "</div>"
      ],
      "text/plain": [
       "  param_C param_gamma  mean_test_score  mean_train_score\n",
       "0     0.1       scale              NaN               NaN\n",
       "1     0.1        auto         0.696133          0.697624\n",
       "2     0.5       scale              NaN               NaN\n",
       "3     0.5        auto         0.884567          0.885854\n",
       "4       1       scale              NaN               NaN\n",
       "5       1        auto         0.911600          0.913089\n",
       "6      10       scale              NaN               NaN\n",
       "7      10        auto         0.956267          0.960922"
      ]
     },
     "execution_count": 10,
     "metadata": {},
     "output_type": "execute_result"
    }
   ],
   "source": [
    "result[[\"param_C\",\"param_gamma\",\"mean_test_score\",\"mean_train_score\"]]"
   ]
  },
  {
   "cell_type": "code",
   "execution_count": 7,
   "metadata": {},
   "outputs": [
    {
     "data": {
      "text/plain": [
       "0.9548"
      ]
     },
     "execution_count": 7,
     "metadata": {},
     "output_type": "execute_result"
    }
   ],
   "source": [
    "pred_y=best_model.predict(test_X)\n",
    "\n",
    "accuracy_score(test_y,pred_y)"
   ]
  },
  {
   "cell_type": "code",
   "execution_count": 8,
   "metadata": {},
   "outputs": [
    {
     "data": {
      "text/plain": [
       "<sklearn.metrics._plot.confusion_matrix.ConfusionMatrixDisplay at 0x7efd8d376b90>"
      ]
     },
     "execution_count": 8,
     "metadata": {},
     "output_type": "execute_result"
    },
    {
     "data": {
      "image/png": "[encoded data removed]",
      "text/plain": [
       "<Figure size 640x480 with 2 Axes>"
      ]
     },
     "metadata": {},
     "output_type": "display_data"
    }
   ],
   "source": [
    "cm = confusion_matrix(test_y, pred_y, labels=[x for x in range(10)])\n",
    "ConfusionMatrixDisplay(confusion_matrix=cm,display_labels=[x for x in range(10)]).plot()"
   ]
  }
 ],
 "metadata": {
  "kernelspec": {
   "display_name": "Python 3.10.6 64-bit",
   "language": "python",
   "name": "python3"
  },
  "language_info": {
   "codemirror_mode": {
    "name": "ipython",
    "version": 3
   },
   "file_extension": ".py",
   "mimetype": "text/x-python",
   "name": "python",
   "nbconvert_exporter": "python",
   "pygments_lexer": "ipython3",
   "version": "3.10.6 (main, Nov 14 2022, 16:10:14) [GCC 11.3.0]"
  },
  "orig_nbformat": 4,
  "vscode": {
   "interpreter": {
    "hash": "31f2aee4e71d21fbe5cf8b01ff0e069b9275f58929596ceb00d14d90e3e16cd6"
   }
  }
 },
 "nbformat": 4,
 "nbformat_minor": 2
}
