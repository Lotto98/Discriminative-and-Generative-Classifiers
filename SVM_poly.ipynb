{
 "cells": [
  {
   "cell_type": "code",
   "execution_count": 1,
   "metadata": {},
   "outputs": [],
   "source": [
    "from thundersvm import SVC\n",
    "from utility import *"
   ]
  },
  {
   "cell_type": "code",
   "execution_count": 2,
   "metadata": {},
   "outputs": [],
   "source": [
    "train_X=pd.read_csv('dataset/train_X.csv')\n",
    "test_X=pd.read_csv('dataset/test_X.csv')\n",
    "\n",
    "train_y=pd.read_csv('dataset/train_y.csv')\n",
    "test_y=pd.read_csv('dataset/test_y.csv')"
   ]
  },
  {
   "attachments": {},
   "cell_type": "markdown",
   "metadata": {},
   "source": [
    "SVM with Polynomial Kernel of degree 2"
   ]
  },
  {
   "cell_type": "code",
   "execution_count": 3,
   "metadata": {},
   "outputs": [],
   "source": [
    "model=SVC(kernel='polynomial',degree=2,n_jobs=-1)\n",
    "\n",
    "properties=SVM_properties"
   ]
  },
  {
   "cell_type": "code",
   "execution_count": 4,
   "metadata": {},
   "outputs": [
    {
     "name": "stdout",
     "output_type": "stream",
     "text": [
      "Best Score:  0.9562666666666667\n",
      "Best Params:  {'C': 10}\n"
     ]
    }
   ],
   "source": [
    "model_name='SVM_poly'\n",
    "\n",
    "if 'model' in globals():\n",
    "    \n",
    "    best_model,result=model_selector(model,properties,train_X,train_y)\n",
    "    save(best_model,result,model_name)\n",
    "    \n",
    "else:\n",
    "    from thundersvm import SVC\n",
    "    from utility import *\n",
    "    \n",
    "    train_X=pd.read_csv('dataset/train_X.csv')\n",
    "    test_X=pd.read_csv('dataset/test_X.csv')\n",
    "\n",
    "    train_y=pd.read_csv('dataset/train_y.csv')\n",
    "    test_y=pd.read_csv('dataset/test_y.csv')\n",
    "    \n",
    "    best_model,result=load(model_name)"
   ]
  },
  {
   "cell_type": "code",
   "execution_count": 5,
   "metadata": {},
   "outputs": [
    {
     "data": {
      "text/html": [
       "<div>\n",
       "<style scoped>\n",
       "    .dataframe tbody tr th:only-of-type {\n",
       "        vertical-align: middle;\n",
       "    }\n",
       "\n",
       "    .dataframe tbody tr th {\n",
       "        vertical-align: top;\n",
       "    }\n",
       "\n",
       "    .dataframe thead th {\n",
       "        text-align: right;\n",
       "    }\n",
       "</style>\n",
       "<table border=\"1\" class=\"dataframe\">\n",
       "  <thead>\n",
       "    <tr style=\"text-align: right;\">\n",
       "      <th></th>\n",
       "      <th>param_C</th>\n",
       "      <th>mean_test_score</th>\n",
       "      <th>mean_train_score</th>\n",
       "    </tr>\n",
       "  </thead>\n",
       "  <tbody>\n",
       "    <tr>\n",
       "      <th>0</th>\n",
       "      <td>0.05</td>\n",
       "      <td>0.462850</td>\n",
       "      <td>0.463667</td>\n",
       "    </tr>\n",
       "    <tr>\n",
       "      <th>1</th>\n",
       "      <td>0.1</td>\n",
       "      <td>0.696133</td>\n",
       "      <td>0.697622</td>\n",
       "    </tr>\n",
       "    <tr>\n",
       "      <th>2</th>\n",
       "      <td>0.5</td>\n",
       "      <td>0.884567</td>\n",
       "      <td>0.885854</td>\n",
       "    </tr>\n",
       "    <tr>\n",
       "      <th>3</th>\n",
       "      <td>1</td>\n",
       "      <td>0.911600</td>\n",
       "      <td>0.913089</td>\n",
       "    </tr>\n",
       "    <tr>\n",
       "      <th>4</th>\n",
       "      <td>10</td>\n",
       "      <td>0.956267</td>\n",
       "      <td>0.960920</td>\n",
       "    </tr>\n",
       "  </tbody>\n",
       "</table>\n",
       "</div>"
      ],
      "text/plain": [
       "  param_C  mean_test_score  mean_train_score\n",
       "0    0.05         0.462850          0.463667\n",
       "1     0.1         0.696133          0.697622\n",
       "2     0.5         0.884567          0.885854\n",
       "3       1         0.911600          0.913089\n",
       "4      10         0.956267          0.960920"
      ]
     },
     "execution_count": 5,
     "metadata": {},
     "output_type": "execute_result"
    }
   ],
   "source": [
    "result[[\"param_C\",\"mean_test_score\",\"mean_train_score\"]]"
   ]
  },
  {
   "cell_type": "code",
   "execution_count": 6,
   "metadata": {},
   "outputs": [
    {
     "data": {
      "text/plain": [
       "0.9548"
      ]
     },
     "execution_count": 6,
     "metadata": {},
     "output_type": "execute_result"
    }
   ],
   "source": [
    "pred_y=best_model.predict(test_X)\n",
    "\n",
    "accuracy_score(test_y,pred_y)"
   ]
  },
  {
   "cell_type": "code",
   "execution_count": 7,
   "metadata": {},
   "outputs": [
    {
     "data": {
      "text/plain": [
       "array([[ 962,    0,    5,    0,    2,    3,    4,    1,    4,    2],\n",
       "       [   0, 1133,    5,    5,    0,    0,    1,    1,    4,    3],\n",
       "       [   2,   12,  920,    4,    8,    3,    4,    6,    7,    1],\n",
       "       [   0,    7,   16,  965,    1,   16,    2,   10,    8,    9],\n",
       "       [   1,    2,    2,    0,  869,    0,    4,    2,    3,   23],\n",
       "       [   1,    6,    3,   14,    2,  899,    8,    0,    4,    0],\n",
       "       [   4,    3,    0,    0,    8,    9,  935,    0,    2,    0],\n",
       "       [   0,   16,   10,    0,    5,    0,    0, 1009,    2,   13],\n",
       "       [   1,    8,    8,   23,    7,   18,    5,    5,  890,    4],\n",
       "       [   6,    9,    1,   11,   21,    2,    0,   14,    6,  966]])"
      ]
     },
     "execution_count": 7,
     "metadata": {},
     "output_type": "execute_result"
    }
   ],
   "source": [
    "confusion_matrix(test_y,pred_y)"
   ]
  }
 ],
 "metadata": {
  "kernelspec": {
   "display_name": "Python 3.10.6 64-bit",
   "language": "python",
   "name": "python3"
  },
  "language_info": {
   "codemirror_mode": {
    "name": "ipython",
    "version": 3
   },
   "file_extension": ".py",
   "mimetype": "text/x-python",
   "name": "python",
   "nbconvert_exporter": "python",
   "pygments_lexer": "ipython3",
   "version": "3.10.6"
  },
  "orig_nbformat": 4,
  "vscode": {
   "interpreter": {
    "hash": "31f2aee4e71d21fbe5cf8b01ff0e069b9275f58929596ceb00d14d90e3e16cd6"
   }
  }
 },
 "nbformat": 4,
 "nbformat_minor": 2
}
