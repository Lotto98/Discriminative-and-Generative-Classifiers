{
 "cells": [
  {
   "cell_type": "code",
   "execution_count": 1,
   "metadata": {},
   "outputs": [],
   "source": [
    "from sklearn.model_selection import train_test_split,GridSearchCV\n",
    "#from sklearn.svm import SVC\n",
    "from thundersvm import SVC\n",
    "import pandas as pd\n",
    "from IPython.display import clear_output\n",
    "from sklearn.metrics import accuracy_score"
   ]
  },
  {
   "cell_type": "code",
   "execution_count": 2,
   "metadata": {},
   "outputs": [],
   "source": [
    "train_X=pd.read_csv('dataset/train_X.csv')\n",
    "test_X=pd.read_csv('dataset/test_X.csv')\n",
    "\n",
    "train_y=pd.read_csv('dataset/train_y.csv')\n",
    "test_y=pd.read_csv('dataset/test_y.csv')"
   ]
  },
  {
   "attachments": {},
   "cell_type": "markdown",
   "metadata": {},
   "source": [
    "SVM with Polynomial of degree 2 kernel"
   ]
  },
  {
   "cell_type": "code",
   "execution_count": 3,
   "metadata": {},
   "outputs": [],
   "source": [
    "def SVM_selector_poly(X,Y):\n",
    "           \n",
    "    model=SVC(n_jobs=-1)\n",
    "    properties={'C':[0.1,1,10,50],'kernel':['poly'],'degree':[2]}\n",
    "    \n",
    "    grid=GridSearchCV(model,properties,scoring=\"accuracy\",cv=10,return_train_score=True,verbose=5)\n",
    "    grid.fit(X,Y.values.ravel())\n",
    "    \n",
    "    clear_output(wait=True)\n",
    "    \n",
    "    result=pd.DataFrame(grid.cv_results_)\n",
    "    \n",
    "    print (\"Best Score: \", grid.best_score_)\n",
    "    print (\"Best Params: \", grid.best_params_)\n",
    "    \n",
    "    return grid.best_estimator_,result\n"
   ]
  },
  {
   "cell_type": "code",
   "execution_count": 4,
   "metadata": {},
   "outputs": [],
   "source": [
    "best_model_poly,result_poly=SVM_selector_poly(train_X,train_y)"
   ]
  },
  {
   "cell_type": "code",
   "execution_count": null,
   "metadata": {},
   "outputs": [],
   "source": [
    "result_poly[[\"param_C\",\"mean_test_score\",\"mean_train_score\"]]"
   ]
  },
  {
   "cell_type": "code",
   "execution_count": null,
   "metadata": {},
   "outputs": [],
   "source": [
    "pred_y=best_model_poly.predict(test_X)\n",
    "\n",
    "accuracy_score(test_y,pred_y)"
   ]
  }
 ],
 "metadata": {
  "kernelspec": {
   "display_name": "Python 3.10.6 64-bit",
   "language": "python",
   "name": "python3"
  },
  "language_info": {
   "codemirror_mode": {
    "name": "ipython",
    "version": 3
   },
   "file_extension": ".py",
   "mimetype": "text/x-python",
   "name": "python",
   "nbconvert_exporter": "python",
   "pygments_lexer": "ipython3",
   "version": "3.10.6 (main, Nov 14 2022, 16:10:14) [GCC 11.3.0]"
  },
  "orig_nbformat": 4,
  "vscode": {
   "interpreter": {
    "hash": "31f2aee4e71d21fbe5cf8b01ff0e069b9275f58929596ceb00d14d90e3e16cd6"
   }
  }
 },
 "nbformat": 4,
 "nbformat_minor": 2
}
