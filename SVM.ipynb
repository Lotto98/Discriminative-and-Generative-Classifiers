{
 "cells": [
  {
   "cell_type": "code",
   "execution_count": 6,
   "metadata": {},
   "outputs": [],
   "source": [
    "from sklearn.model_selection import train_test_split,GridSearchCV\n",
    "from sklearn.svm import SVC\n",
    "import pandas as pd\n",
    "from IPython.display import clear_output"
   ]
  },
  {
   "cell_type": "code",
   "execution_count": 7,
   "metadata": {},
   "outputs": [],
   "source": [
    "train_X=pd.read_csv('dataset/train_X.csv')\n",
    "test_X=pd.read_csv('dataset/test_X.csv')\n",
    "\n",
    "train_y=pd.read_csv('dataset/train_y.csv')\n",
    "test_y=pd.read_csv('dataset/test_y.csv')"
   ]
  },
  {
   "cell_type": "code",
   "execution_count": 23,
   "metadata": {},
   "outputs": [],
   "source": [
    "def SVM_selector_linear(X,Y):\n",
    "           \n",
    "    model=SVC()\n",
    "    properties={'C':[0.1],'kernel':['linear']}\n",
    "    \n",
    "    grid=GridSearchCV(model,properties,scoring=\"neg_mean_squared_error\",cv=10,n_jobs=-1,pre_dispatch='n_jobs',return_train_score=True,verbose=5)\n",
    "    grid.fit(X,Y.values.ravel())\n",
    "    \n",
    "    clear_output(wait=True)\n",
    "    \n",
    "    result=pd.DataFrame(grid.cv_results_)\n",
    "    \n",
    "    print (\"Best Score: \", grid.best_score_)\n",
    "    print (\"Best Params: \", grid.best_params_)\n",
    "    \n",
    "    return grid.best_estimator_,result\n"
   ]
  },
  {
   "cell_type": "code",
   "execution_count": 24,
   "metadata": {},
   "outputs": [
    {
     "name": "stdout",
     "output_type": "stream",
     "text": [
      "Best Score:  -0.9494666666666667\n",
      "Best Params:  {'C': 0.1, 'kernel': 'linear'}\n"
     ]
    }
   ],
   "source": [
    "best_model_linear=SVM_selector_linear(train_X,train_y)"
   ]
  },
  {
   "cell_type": "code",
   "execution_count": null,
   "metadata": {},
   "outputs": [],
   "source": [
    "def SVM_selector_poly(X,Y):\n",
    "           \n",
    "    model=SVC()\n",
    "    properties={'C':[x for x in range(1,100,20)],'kernel':['poly'],'degree':[2],'gamma':['scale','auto']}\n",
    "    \n",
    "    grid=GridSearchCV(model,properties,scoring=\"neg_mean_squared_error\",cv=10,n_jobs=5,return_train_score=True,verbose=2)\n",
    "    grid.fit(X,Y.values.ravel())\n",
    "    \n",
    "    clear_output(wait=True)\n",
    "    \n",
    "    result=pd.DataFrame(grid.cv_results_)\n",
    "    \n",
    "    print (\"Best Score: \", grid.best_score_)\n",
    "    print (\"Best Params: \", grid.best_params_)\n",
    "    \n",
    "    return grid.best_estimator_,result"
   ]
  },
  {
   "cell_type": "code",
   "execution_count": null,
   "metadata": {},
   "outputs": [],
   "source": [
    "SVM_selector_poly(train_X,train_y)"
   ]
  },
  {
   "cell_type": "code",
   "execution_count": null,
   "metadata": {},
   "outputs": [],
   "source": [
    "def SVM_selector_RBF(X,Y):\n",
    "           \n",
    "    model=SVC()\n",
    "    properties={'C':[x for x in range(1,100,10)],'kernel':['rbf'],'gamma':['scale','auto']}\n",
    "    \n",
    "    grid=GridSearchCV(model,properties,scoring=\"neg_mean_squared_error\",cv=10,n_jobs=5,return_train_score=True,verbose=2)\n",
    "    grid.fit(X,Y.values.ravel())\n",
    "    \n",
    "    clear_output(wait=True)\n",
    "    \n",
    "    result=pd.DataFrame(grid.cv_results_)\n",
    "    \n",
    "    print (\"Best Score: \", grid.best_score_)\n",
    "    print (\"Best Params: \", grid.best_params_)\n",
    "    \n",
    "    return grid.best_estimator_,result"
   ]
  },
  {
   "cell_type": "code",
   "execution_count": null,
   "metadata": {},
   "outputs": [],
   "source": [
    "SVM_selector_RBF(train_X,train_y)"
   ]
  }
 ],
 "metadata": {
  "kernelspec": {
   "display_name": "Python 3.10.6 64-bit",
   "language": "python",
   "name": "python3"
  },
  "language_info": {
   "codemirror_mode": {
    "name": "ipython",
    "version": 3
   },
   "file_extension": ".py",
   "mimetype": "text/x-python",
   "name": "python",
   "nbconvert_exporter": "python",
   "pygments_lexer": "ipython3",
   "version": "3.10.6"
  },
  "orig_nbformat": 4,
  "vscode": {
   "interpreter": {
    "hash": "31f2aee4e71d21fbe5cf8b01ff0e069b9275f58929596ceb00d14d90e3e16cd6"
   }
  }
 },
 "nbformat": 4,
 "nbformat_minor": 2
}
