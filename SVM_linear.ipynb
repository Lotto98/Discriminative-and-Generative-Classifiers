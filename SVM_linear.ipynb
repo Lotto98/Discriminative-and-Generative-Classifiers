{
 "cells": [
  {
   "cell_type": "code",
   "execution_count": 1,
   "metadata": {},
   "outputs": [],
   "source": [
    "from sklearn.model_selection import GridSearchCV\n",
    "from thundersvm import SVC\n",
    "import pandas as pd\n",
    "from IPython.display import clear_output\n",
    "from sklearn.metrics import accuracy_score"
   ]
  },
  {
   "cell_type": "code",
   "execution_count": 2,
   "metadata": {},
   "outputs": [],
   "source": [
    "train_X=pd.read_csv('dataset/train_X.csv')\n",
    "test_X=pd.read_csv('dataset/test_X.csv')\n",
    "\n",
    "train_y=pd.read_csv('dataset/train_y.csv')\n",
    "test_y=pd.read_csv('dataset/test_y.csv')"
   ]
  },
  {
   "attachments": {},
   "cell_type": "markdown",
   "metadata": {},
   "source": [
    "SVM with Linear Kernel"
   ]
  },
  {
   "cell_type": "code",
   "execution_count": 3,
   "metadata": {},
   "outputs": [],
   "source": [
    "def SVM_selector_linear(X,Y):\n",
    "           \n",
    "    model=SVC(n_jobs=-1)\n",
    "    properties={'C':[0.1,1,10,50],'kernel':['linear']}\n",
    "    \n",
    "    grid=GridSearchCV(model,properties,scoring=\"accuracy\",cv=10,return_train_score=True,verbose=5)\n",
    "    grid.fit(X,Y.values.ravel())\n",
    "    \n",
    "    clear_output(wait=True)\n",
    "    \n",
    "    result=pd.DataFrame(grid.cv_results_)\n",
    "    \n",
    "    print (\"Best Score: \", grid.best_score_)\n",
    "    print (\"Best Params: \", grid.best_params_)\n",
    "    \n",
    "    return grid.best_estimator_,result\n"
   ]
  },
  {
   "cell_type": "code",
   "execution_count": 4,
   "metadata": {},
   "outputs": [
    {
     "name": "stdout",
     "output_type": "stream",
     "text": [
      "Fitting 10 folds for each of 4 candidates, totalling 40 fits\n",
      "[CV 1/10] END C=0.1, kernel=linear;, score=(train=0.960, test=0.946) total time= 1.9min\n",
      "[CV 2/10] END C=0.1, kernel=linear;, score=(train=0.960, test=0.938) total time= 1.9min\n",
      "[CV 3/10] END C=0.1, kernel=linear;, score=(train=0.960, test=0.943) total time= 1.8min\n",
      "[CV 4/10] END C=0.1, kernel=linear;, score=(train=0.959, test=0.945) total time= 1.9min\n",
      "[CV 5/10] END C=0.1, kernel=linear;, score=(train=0.960, test=0.944) total time= 1.9min\n",
      "[CV 6/10] END C=0.1, kernel=linear;, score=(train=0.959, test=0.947) total time= 2.0min\n",
      "[CV 7/10] END C=0.1, kernel=linear;, score=(train=0.960, test=0.942) total time= 1.9min\n",
      "[CV 8/10] END C=0.1, kernel=linear;, score=(train=0.960, test=0.941) total time= 1.8min\n",
      "[CV 9/10] END C=0.1, kernel=linear;, score=(train=0.959, test=0.943) total time= 1.9min\n",
      "[CV 10/10] END C=0.1, kernel=linear;, score=(train=0.960, test=0.949) total time= 1.8min\n",
      "[CV 1/10] END C=1, kernel=linear;, score=(train=0.974, test=0.938) total time= 2.2min\n",
      "[CV 2/10] END C=1, kernel=linear;, score=(train=0.972, test=0.935) total time= 2.2min\n",
      "[CV 3/10] END C=1, kernel=linear;, score=(train=0.972, test=0.937) total time= 2.2min\n",
      "[CV 4/10] END C=1, kernel=linear;, score=(train=0.972, test=0.938) total time= 2.2min\n",
      "[CV 5/10] END C=1, kernel=linear;, score=(train=0.973, test=0.931) total time= 2.2min\n",
      "[CV 6/10] END C=1, kernel=linear;, score=(train=0.972, test=0.939) total time= 2.2min\n",
      "[CV 7/10] END C=1, kernel=linear;, score=(train=0.973, test=0.933) total time= 2.2min\n",
      "[CV 8/10] END C=1, kernel=linear;, score=(train=0.973, test=0.935) total time= 2.2min\n",
      "[CV 9/10] END C=1, kernel=linear;, score=(train=0.972, test=0.935) total time= 2.3min\n",
      "[CV 10/10] END C=1, kernel=linear;, score=(train=0.973, test=0.941) total time= 2.3min\n",
      "[CV 1/10] END C=10, kernel=linear;, score=(train=0.983, test=0.928) total time= 4.6min\n",
      "[CV 2/10] END C=10, kernel=linear;, score=(train=0.982, test=0.923) total time= 4.7min\n",
      "[CV 3/10] END C=10, kernel=linear;, score=(train=0.983, test=0.924) total time= 4.7min\n",
      "[CV 4/10] END C=10, kernel=linear;, score=(train=0.983, test=0.927) total time= 4.7min\n",
      "[CV 5/10] END C=10, kernel=linear;, score=(train=0.982, test=0.924) total time= 4.6min\n",
      "[CV 6/10] END C=10, kernel=linear;, score=(train=0.982, test=0.927) total time= 5.1min\n",
      "[CV 7/10] END C=10, kernel=linear;, score=(train=0.982, test=0.925) total time= 4.9min\n",
      "[CV 8/10] END C=10, kernel=linear;, score=(train=0.983, test=0.922) total time= 4.8min\n",
      "[CV 9/10] END C=10, kernel=linear;, score=(train=0.982, test=0.925) total time= 4.9min\n",
      "[CV 10/10] END C=10, kernel=linear;, score=(train=0.982, test=0.931) total time= 5.1min\n"
     ]
    }
   ],
   "source": [
    "best_model_linear,result_linear=SVM_selector_linear(train_X,train_y)"
   ]
  },
  {
   "cell_type": "code",
   "execution_count": null,
   "metadata": {},
   "outputs": [],
   "source": [
    "result_linear[[\"param_C\",\"mean_test_score\",\"mean_train_score\"]]"
   ]
  },
  {
   "cell_type": "code",
   "execution_count": null,
   "metadata": {},
   "outputs": [],
   "source": [
    "pred_y=best_model_linear.predict(test_X)\n",
    "\n",
    "accuracy_score(test_y,pred_y)"
   ]
  },
  {
   "cell_type": "code",
   "execution_count": null,
   "metadata": {},
   "outputs": [],
   "source": [
    "import pickle\n",
    "\n",
    "filename = 'model/best_model_linear.sav'\n",
    "pickle.dump(best_model_linear, open(filename, 'wb'))\n"
   ]
  }
 ],
 "metadata": {
  "kernelspec": {
   "display_name": "Python 3.10.6 64-bit",
   "language": "python",
   "name": "python3"
  },
  "language_info": {
   "codemirror_mode": {
    "name": "ipython",
    "version": 3
   },
   "file_extension": ".py",
   "mimetype": "text/x-python",
   "name": "python",
   "nbconvert_exporter": "python",
   "pygments_lexer": "ipython3",
   "version": "3.10.6"
  },
  "orig_nbformat": 4,
  "vscode": {
   "interpreter": {
    "hash": "31f2aee4e71d21fbe5cf8b01ff0e069b9275f58929596ceb00d14d90e3e16cd6"
   }
  }
 },
 "nbformat": 4,
 "nbformat_minor": 2
}
